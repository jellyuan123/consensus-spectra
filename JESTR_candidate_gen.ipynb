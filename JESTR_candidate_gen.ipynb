{
 "cells": [
  {
   "cell_type": "code",
   "execution_count": null,
   "id": "1c937a60",
   "metadata": {},
   "outputs": [
    {
     "ename": "ModuleNotFoundError",
     "evalue": "No module named 'dgl'",
     "output_type": "error",
     "traceback": [
      "\u001b[0;31m---------------------------------------------------------------------------\u001b[0m",
      "\u001b[0;31mModuleNotFoundError\u001b[0m                       Traceback (most recent call last)",
      "Cell \u001b[0;32mIn[1], line 1\u001b[0m\n\u001b[0;32m----> 1\u001b[0m \u001b[38;5;28;01mfrom\u001b[39;00m \u001b[38;5;21;01mutils\u001b[39;00m \u001b[38;5;28;01mimport\u001b[39;00m DatasetBuilder\n\u001b[1;32m      2\u001b[0m \u001b[38;5;28;01mimport\u001b[39;00m \u001b[38;5;21;01myaml\u001b[39;00m\n\u001b[1;32m      3\u001b[0m \u001b[38;5;28;01mfrom\u001b[39;00m \u001b[38;5;21;01mpyteomics\u001b[39;00m \u001b[38;5;28;01mimport\u001b[39;00m mgf\n",
      "File \u001b[0;32m~/Downloads/cs166 /PROJECT/jestr/utils.py:13\u001b[0m\n\u001b[1;32m     11\u001b[0m \u001b[38;5;66;03m# import numpy as np\u001b[39;00m\n\u001b[1;32m     12\u001b[0m \u001b[38;5;28;01mimport\u001b[39;00m \u001b[38;5;21;01mtorch\u001b[39;00m\n\u001b[0;32m---> 13\u001b[0m \u001b[38;5;28;01mimport\u001b[39;00m \u001b[38;5;21;01mdgl\u001b[39;00m\n\u001b[1;32m     14\u001b[0m \u001b[38;5;28;01mfrom\u001b[39;00m \u001b[38;5;21;01mdgllife\u001b[39;00m\u001b[38;5;21;01m.\u001b[39;00m\u001b[38;5;21;01mutils\u001b[39;00m \u001b[38;5;28;01mimport\u001b[39;00m EarlyStopping\n\u001b[1;32m     15\u001b[0m \u001b[38;5;28;01mimport\u001b[39;00m \u001b[38;5;21;01mrandom\u001b[39;00m\n",
      "\u001b[0;31mModuleNotFoundError\u001b[0m: No module named 'dgl'"
     ]
    }
   ],
   "source": [
    "from utils import DatasetBuilder\n",
    "import yaml\n",
    "from pyteomics import mgf\n",
    "from rdkit import Chem\n",
    "import pubchempy as pcp\n",
    "from pyteomics import mgf\n",
    "from dataset import load_cand_data_mzi\n",
    "from utils import DatasetBuilder, collate_spectra_data, Spectra_data\n",
    "import torch\n",
    "import numpy as np\n",
    "from train_contr import train_contr\n",
    "from torch.utils.data import DataLoader"
   ]
  },
  {
   "cell_type": "code",
   "execution_count": 26,
   "id": "93e95090",
   "metadata": {},
   "outputs": [],
   "source": [
    "def init_datadir(dataset_builder):\n",
    "# Initialize dataset_builder object with blank values because we will not need it\n",
    "    dataset_builder.data_dict = []\n",
    "    dataset_builder.mol_dict = []\n",
    "    dataset_builder.pair_dict = []\n",
    "    dataset_builder.split_dict = []\n",
    "    dataset_builder.fp_dict = []\n",
    "    dataset_builder.in_to_id_dict = []\n",
    "    dataset_builder.in_to_id_dict_wneg = []\n",
    "    dataset_builder.data_dir = './data/NPLIB1/'\n",
    "\n",
    "def get_from_pubchem(in_smiles):\n",
    "    m = Chem.MolFromSmiles(in_smiles)\n",
    "    form = Chem.rdMolDescriptors.CalcMolFormula(m)\n",
    "    smiles = []\n",
    "    try:\n",
    "        compounds = pcp.get_compounds(form, 'formula',record_format='json')\n",
    "    except:\n",
    "        return smiles\n",
    "    for compound in compounds:\n",
    "        smiles.append(compound.canonical_smiles)\n",
    "    return smiles\n",
    "    \n",
    "def norm_mzi(mz, inten): #normalize intensoty to 999 because that is how JESTR has been trained. Drop mz < 1000 Da\n",
    "    mz = mz.reshape(-1, 1)\n",
    "    inten = inten/max(inten)\n",
    "    inten = inten * 999\n",
    "    inten = inten.reshape(-1, 1)\n",
    "    mzi = np.hstack((inten, mz))\n",
    "    idx_mz = mzi[:,1] <= 1000\n",
    "    mzi = mzi[idx_mz]\n",
    "    return mzi"
   ]
  },
  {
   "cell_type": "code",
   "execution_count": 33,
   "id": "857736dd",
   "metadata": {},
   "outputs": [
    {
     "ename": "NameError",
     "evalue": "name 'DatasetBuilder' is not defined",
     "output_type": "error",
     "traceback": [
      "\u001b[0;31m---------------------------------------------------------------------------\u001b[0m",
      "\u001b[0;31mNameError\u001b[0m                                 Traceback (most recent call last)",
      "Cell \u001b[0;32mIn[33], line 11\u001b[0m\n\u001b[1;32m      7\u001b[0m device \u001b[38;5;241m=\u001b[39m torch\u001b[38;5;241m.\u001b[39mdevice(\u001b[38;5;124m\"\u001b[39m\u001b[38;5;124mcuda\u001b[39m\u001b[38;5;124m\"\u001b[39m \u001b[38;5;28;01mif\u001b[39;00m torch\u001b[38;5;241m.\u001b[39mcuda\u001b[38;5;241m.\u001b[39mis_available() \u001b[38;5;28;01melse\u001b[39;00m \u001b[38;5;124m\"\u001b[39m\u001b[38;5;124mcpu\u001b[39m\u001b[38;5;124m\"\u001b[39m)\n\u001b[1;32m      9\u001b[0m ms_intensity_threshold \u001b[38;5;241m=\u001b[39m \u001b[38;5;241m0.0\u001b[39m\n\u001b[0;32m---> 11\u001b[0m dataset_builder \u001b[38;5;241m=\u001b[39m \u001b[43mDatasetBuilder\u001b[49m(params[\u001b[38;5;124m'\u001b[39m\u001b[38;5;124mexp\u001b[39m\u001b[38;5;124m'\u001b[39m])\n\u001b[1;32m     12\u001b[0m init_datadir(dataset_builder)\n\u001b[1;32m     13\u001b[0m molgraph_dict \u001b[38;5;241m=\u001b[39m {}\n",
      "\u001b[0;31mNameError\u001b[0m: name 'DatasetBuilder' is not defined"
     ]
    }
   ],
   "source": [
    "with open('params.yaml') as f:\n",
    "    params = yaml.load(f, Loader=yaml.FullLoader)\n",
    "    \n",
    "import torch\n",
    "\n",
    "dir_path = \"\"\n",
    "device = torch.device(\"cuda\" if torch.cuda.is_available() else \"cpu\")\n",
    "\n",
    "ms_intensity_threshold = 0.0\n",
    "\n",
    "dataset_builder = DatasetBuilder(params['exp'])\n",
    "init_datadir(dataset_builder)\n",
    "molgraph_dict = {}\n",
    "data_path = dir_path + dataset_builder.data_dir\n",
    "\n",
    "dataset_builder.molgraph_dict = molgraph_dict\n",
    "logfile = './trial_notebook.log'\n",
    "output = open(logfile, 'a')"
   ]
  },
  {
   "cell_type": "code",
   "execution_count": null,
   "id": "a49ef2b1",
   "metadata": {},
   "outputs": [],
   "source": [
    "# Assign some environment variables, either new or override the ones from params.yaml file\n",
    "load_from_pubchem = True #Try and download candidates from pubchem if set True, else assume a list is given\n",
    "# spec_id_from_mgf = 'CCMSLIB00000855758' #The two in sample mgf file are CCMSLIB00000855758, CCMSLIB00000846187\n",
    "# #The matching pairs are CCMSLIB00000855758 and CC1=CC2C=C(C)C(C)C3C(CC(C)C)NC(=O)C23C(=O)CCC2OC(C)(C)OC2CC1\n",
    "# #and CCMSLIB00000846187 and COc1c2c(c(C)c3c1C(=O)OC3)OC1(C)CC3(O)OCC4(C)OC5(OC)CCC(C)(C1C2)C43O5\n",
    "# target_smiles = 'CC1=CC2C=C(C)C(C)C3C(CC(C)C)NC(=O)C23C(=O)CCC2OC(C)(C)OC2CC1'\n",
    "# mgf_file = data_path + 'my_data.mgf' #path of mgf file"
   ]
  },
  {
   "cell_type": "code",
   "execution_count": null,
   "id": "3af176cd",
   "metadata": {},
   "outputs": [],
   "source": [
    "# List of candidate SMILES if user doesnt want to download from PubChem. \n",
    "# Note that the molecules in PubChem keep changing. For the lists given below, JESTR gives a rank of 1 for\n",
    "# both examples. This rank may change on any given day because the list of molecules retrieved from PubChem\n",
    "# could change, and harder molecules may appear in the retrieved list\n",
    "\n",
    "candidate_dict = {}"
   ]
  },
  {
   "cell_type": "markdown",
   "id": "016fef8a",
   "metadata": {},
   "source": [
    "The below code was not actually run by me, but it shows what I was attempting to do with JESTR. "
   ]
  },
  {
   "cell_type": "code",
   "execution_count": null,
   "id": "d343dc21",
   "metadata": {},
   "outputs": [],
   "source": [
    "target_smiles_list = [\"CN1CCC(CC1)NC2=NC3=C(C(=O)NC=C3Br)C(=N2)NC4=CC=C(C=C4)OC5=CC=CC=C5\", \"C1=CC2=C(C=C1O)C(=CN2)CCO\", \"CN1C=C2C=CC=C(C2=N1)CN3C[C@H]4N([C@H](C3=O)CC5=CC=C(C=C5)OP(=O)(O)O)C(=O)CN(N4C(=O)NCC6=CC=CC=C6)CC=C\", \"CCCCCCCCCCCCCC(=O)OC(CC(=O)[O-])C[N+](C)(C)C\", \"CNC1=NC(=C(S1)NC(=O)C2=CC(=C(C=C2)OC)OC)C(=O)N\", \"CC1=C(C(C2=C(N1)CC(CC2=O)(C)C)C3=CC(=C(C(=C3)Br)O)OC)C(=O)OC4CCCC4\", \"CCCCCCC(CCCCCCCCCCC(=O)O)OC(=O)CCCCCCCCCCC=C\", \"CC1(CCC2(CCC3(C(=CCC4C3(CCC5C4(CCC(C5(C)CO)O)C)C)C2C1)C)C(=O)O)C\", \"COC1=C(C=C(C=C1)C2CC(=O)C3=C(O2)C=CC(=C3)Cl)OC\", \"C1=C(N=C(C(=O)N1)C(=O)N)F\"]\n",
    "\n",
    "#Instantiate models and load weights\n",
    "params['load_dicts'] = False\n",
    "params['pretrained_mol_enc_model'] = 'data/NPLIB1/pretrained_mol_enc_model_1707829192911_best.pt'\n",
    "params['pretrained_spec_enc_model'] = 'data/NPLIB1/pretrained_spec_enc_model_1707829192911_best.pt'\n",
    "\n",
    "mol_enc_model_contr, spec_enc_model_contr, models_list = train_contr(dataset_builder, molgraph_dict, params, output,\n",
    "                                                             device, data_path, True)\n",
    "mol_enc_model_contr.eval()\n",
    "spec_enc_model_contr.eval()\n",
    "i = 0\n",
    "\n",
    "for smiles in target_smiles_list:\n",
    "\n",
    "        spec_id_from_mgf = str(i) #The two in sample mgf file are CCMSLIB00000855758, CCMSLIB00000846187\n",
    "        #The matching pairs are CCMSLIB00000855758 and CC1=CC2C=C(C)C(C)C3C(CC(C)C)NC(=O)C23C(=O)CCC2OC(C)(C)OC2CC1\n",
    "        #and CCMSLIB00000846187 and COc1c2c(c(C)c3c1C(=O)OC3)OC1(C)CC3(O)OCC4(C)OC5(OC)CCC(C)(C1C2)C43O5\n",
    "        target_smiles = smiles\n",
    "        mgf_file = data_path + 'test_new_ten.mgf' #path of mgf file\n",
    "\n",
    "        if smiles not in candidate_dict.keys():\n",
    "                candidate_smiles = get_from_pubchem(smiles)\n",
    "                assert len(candidate_smiles) != 0, \"No candidates found!\"\n",
    "        else:\n",
    "                candidate_smiles = candidate_dict[target_smiles]\n",
    "\n",
    "        try:\n",
    "                spec = mgf.get_spectrum(mgf_file, spec_id_from_mgf)\n",
    "        except:\n",
    "                assert False, \"No spectrum found in MGF file\"\n",
    "                \n",
    "        assert spec['params']['charge'][0] == 1, \"Not an [M+H]+ spectrum\"\n",
    "\n",
    "        mz = spec['m/z array']\n",
    "        intensity = spec['intensity array']\n",
    "        mzi = norm_mzi(mz, intensity)\n",
    "\n",
    "        data_list = load_cand_data_mzi(dataset_builder, params, target_smiles, candidate_smiles, mzi, device)\n",
    "\n",
    "        assert len(data_list) >= 2, \"Candidates could not be converted to rdkit mol objects\"    \n",
    "        spec_test_ds = Spectra_data(data_list)\n",
    "        collate_fn = collate_spectra_data(molgraph_dict, params)\n",
    "\n",
    "        dl_params = {'batch_size': params['batch_size_val_final'],\n",
    "                'shuffle': False}\n",
    "        spec_test_dl = DataLoader(spec_test_ds, collate_fn=collate_fn, **dl_params)\n",
    "        mol_enc_total = torch.Tensor()\n",
    "        spec_enc_total = torch.Tensor()\n",
    "\n",
    "        for batch_id, (batch_g, mz_b, int_b, pad, fp_b, y, lengths, inchi) in enumerate(spec_test_dl):\n",
    "                batch_g = batch_g.to(torch.device(device))\n",
    "                mz_b = mz_b.to(torch.device(device))\n",
    "                int_b = int_b.to(torch.device(device))\n",
    "                pad = pad.to(torch.device(device))\n",
    "                fp_b = fp_b.to(torch.device(device))\n",
    "                y = y.to(torch.device(device))\n",
    "                with torch.no_grad():\n",
    "                        mol_enc = mol_enc_model_contr(batch_g, batch_g.ndata['h'])\n",
    "                        spec_enc = spec_enc_model_contr(mz_b, int_b, pad, lengths)\n",
    "\n",
    "        mol_enc_total = torch.cat([mol_enc_total, mol_enc.cpu()])\n",
    "        spec_enc_total = torch.cat([spec_enc_total, spec_enc.cpu()])\n",
    "\n",
    "        dist = torch.nn.CosineSimilarity()\n",
    "        dist = dist(mol_enc_total, spec_enc_total)\n",
    "        dist = dist.tolist()\n",
    "        dist = np.array(dist)\n",
    "        rank_dist = (dist[0] > dist[1:]).sum()\n",
    "        rank_dist = len(dist) - rank_dist\n",
    "\n",
    "        print(\"Rank for Target SMILES {} for spectrum ID {} = {}\".format(target_smiles, spec_id_from_mgf, rank_dist))\n",
    "        i+=1"
   ]
  },
  {
   "cell_type": "code",
   "execution_count": null,
   "id": "23b5ce52",
   "metadata": {},
   "outputs": [],
   "source": [
    "# #Load spectrum from MGF file\n",
    "# try:\n",
    "#     spec = mgf.get_spectrum(mgf_file, spec_id_from_mgf)\n",
    "# except:\n",
    "#     assert False, \"No spectrum found in MGF file\"\n",
    "    \n",
    "# assert spec['params']['charge'][0] == 1, \"Not an [M+H]+ spectrum\"\n",
    "\n",
    "# mz = spec['m/z array']\n",
    "# intensity = spec['intensity array']\n",
    "# mzi = norm_mzi(mz, intensity)"
   ]
  },
  {
   "cell_type": "code",
   "execution_count": null,
   "id": "6421b2e3",
   "metadata": {},
   "outputs": [],
   "source": [
    "# #load candidate data and check if rdkit mols can be generated for all candidates\n",
    "# data_list = load_cand_data_mzi(dataset_builder, params, target_smiles, candidate_smiles, mzi, device)\n",
    "\n",
    "# assert len(data_list) >= 2, \"Candidates could not be converted to rdkit mol objects\""
   ]
  },
  {
   "cell_type": "code",
   "execution_count": null,
   "id": "a1b5f1cc",
   "metadata": {},
   "outputs": [
    {
     "name": "stderr",
     "output_type": "stream",
     "text": [
      "11-17 16:45:46\tloading pretrained_mol_enc_model weights from data/NPLIB1/pretrained_mol_enc_model_1707829192911_best.pt\n",
      "11-17 16:45:46\tloading pretrained_spec_enc_model weights from data/NPLIB1/pretrained_spec_enc_model_1707829192911_best.pt\n"
     ]
    },
    {
     "data": {
      "text/plain": [
       "SpecEncMLP_BIN(\n",
       "  (dropout): Dropout(p=0.4, inplace=False)\n",
       "  (mz_fc1): Linear(in_features=1000, out_features=1024, bias=True)\n",
       "  (mz_fc2): Linear(in_features=1024, out_features=1024, bias=True)\n",
       "  (mz_fc3): Linear(in_features=1024, out_features=512, bias=True)\n",
       "  (relu): ReLU()\n",
       ")"
      ]
     },
     "execution_count": 32,
     "metadata": {},
     "output_type": "execute_result"
    }
   ],
   "source": [
    "# #Instantiate models and load weights\n",
    "# params['load_dicts'] = False\n",
    "# params['pretrained_mol_enc_model'] = 'data/NPLIB1/pretrained_mol_enc_model_1707829192911_best.pt'\n",
    "# params['pretrained_spec_enc_model'] = 'data/NPLIB1/pretrained_spec_enc_model_1707829192911_best.pt'\n",
    "\n",
    "# mol_enc_model_contr, spec_enc_model_contr, models_list = train_contr(dataset_builder, molgraph_dict, params, output,\n",
    "#                                                              device, data_path, True)\n",
    "# mol_enc_model_contr.eval()\n",
    "# spec_enc_model_contr.eval()"
   ]
  },
  {
   "cell_type": "code",
   "execution_count": null,
   "id": "796dc6a3",
   "metadata": {},
   "outputs": [],
   "source": [
    "# # set up dataloaders\n",
    "# spec_test_ds = Spectra_data(data_list)\n",
    "# collate_fn = collate_spectra_data(molgraph_dict, params)\n",
    "\n",
    "# dl_params = {'batch_size': params['batch_size_val_final'],\n",
    "#              'shuffle': False}\n",
    "# spec_test_dl = DataLoader(spec_test_ds, collate_fn=collate_fn, **dl_params)\n",
    "# mol_enc_total = torch.Tensor()\n",
    "# spec_enc_total = torch.Tensor()"
   ]
  },
  {
   "cell_type": "code",
   "execution_count": null,
   "id": "6909f34a",
   "metadata": {},
   "outputs": [],
   "source": [
    "# #Run encoders to get embeddings\n",
    "# for batch_id, (batch_g, mz_b, int_b, pad, fp_b, y, lengths, inchi) in enumerate(spec_test_dl):\n",
    "#     batch_g = batch_g.to(torch.device(device))\n",
    "#     mz_b = mz_b.to(torch.device(device))\n",
    "#     int_b = int_b.to(torch.device(device))\n",
    "#     pad = pad.to(torch.device(device))\n",
    "#     fp_b = fp_b.to(torch.device(device))\n",
    "#     y = y.to(torch.device(device))\n",
    "#     with torch.no_grad():\n",
    "#         mol_enc = mol_enc_model_contr(batch_g, batch_g.ndata['h'])\n",
    "#         spec_enc = spec_enc_model_contr(mz_b, int_b, pad, lengths)\n",
    "\n",
    "#     mol_enc_total = torch.cat([mol_enc_total, mol_enc.cpu()])\n",
    "#     spec_enc_total = torch.cat([spec_enc_total, spec_enc.cpu()])"
   ]
  },
  {
   "cell_type": "code",
   "execution_count": null,
   "id": "1dcfdfb1",
   "metadata": {},
   "outputs": [],
   "source": [
    "# #Calculate rank\n",
    "# dist = torch.nn.CosineSimilarity()\n",
    "# dist = dist(mol_enc_total, spec_enc_total)\n",
    "# dist = dist.tolist()\n",
    "# dist = np.array(dist)\n",
    "# rank_dist = (dist[0] > dist[1:]).sum()\n",
    "# rank_dist = len(dist) - rank_dist"
   ]
  },
  {
   "cell_type": "code",
   "execution_count": null,
   "id": "2368432f",
   "metadata": {},
   "outputs": [
    {
     "name": "stdout",
     "output_type": "stream",
     "text": [
      "Rank for Target SMILES CC1=CC2C=C(C)C(C)C3C(CC(C)C)NC(=O)C23C(=O)CCC2OC(C)(C)OC2CC1 for spectrum ID CCMSLIB00000855758 = 7\n"
     ]
    }
   ],
   "source": [
    "# print(\"Rank for Target SMILES {} for spectrum ID {} = {}\".format(target_smiles, spec_id_from_mgf, rank_dist))"
   ]
  }
 ],
 "metadata": {
  "kernelspec": {
   "display_name": ".venv",
   "language": "python",
   "name": "python3"
  },
  "language_info": {
   "codemirror_mode": {
    "name": "ipython",
    "version": 3
   },
   "file_extension": ".py",
   "mimetype": "text/x-python",
   "name": "python",
   "nbconvert_exporter": "python",
   "pygments_lexer": "ipython3",
   "version": "3.11.3"
  }
 },
 "nbformat": 4,
 "nbformat_minor": 5
}
